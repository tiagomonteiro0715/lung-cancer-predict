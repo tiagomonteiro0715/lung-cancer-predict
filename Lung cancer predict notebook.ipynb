{
 "cells": [
  {
   "cell_type": "markdown",
   "id": "d97773ef",
   "metadata": {},
   "source": [
    "## Para fazer:\n",
    "\n",
    "perceber cada linha de codigo ao mais infimo detalhe\n",
    "\n",
    "perceber mesmo o que é um tensor\n",
    "\n",
    "tiar collum do cancro do pulmão. fai servir para delta e weight delta ou para aume tat o erro na função de sum of scare residuals"
   ]
  },
  {
   "cell_type": "markdown",
   "id": "4fd9eb46",
   "metadata": {},
   "source": [
    "tornar todos os nomes com letras pequenas e não existir espaos nos nomes\n",
    "\n",
    "ver codigo exemplo em: https://github.com/IEEE-NOVA-SB/Easy_PyTorch_Models"
   ]
  },
  {
   "cell_type": "code",
   "execution_count": 1,
   "id": "516bc4c3",
   "metadata": {},
   "outputs": [],
   "source": [
    "import torch #create tensors to raw data and weights\n",
    "from torch import nn\n",
    "from torch.utils.data import DataLoader\n",
    "import torch.nn.functional as F #gives activation function  \n",
    "from torch.optim import SGD #stochastic gradient descend\n",
    "import pandas as pd\n",
    "import numpy as np"
   ]
  },
  {
   "cell_type": "code",
   "execution_count": 2,
   "id": "f06f8e3c",
   "metadata": {},
   "outputs": [],
   "source": [
    "df = pd.read_csv(r'data.csv')\n",
    "pd.options.display.max_columns = None"
   ]
  },
  {
   "cell_type": "code",
   "execution_count": 3,
   "id": "4588b262",
   "metadata": {},
   "outputs": [],
   "source": [
    "df['LUNG_CANCER'] = df['LUNG_CANCER'].map({'YES': 1, 'NO': 0})\n",
    "df['GENDER'] = df['GENDER'].map({'M': 1, 'F': 0})\n",
    "collumsToChange = [\"SMOKING\", \"YELLOW_FINGERS\",\"ANXIETY\",\"PEER_PRESSURE\",\"CHRONIC DISEASE\",\"FATIGUE\",\"ALLERGY\",\"WHEEZING\",\"ALCOHOL CONSUMING\",\"COUGHING\",\"SHORTNESS OF BREATH\",\"SWALLOWING DIFFICULTY\",\"CHEST PAIN\"] \n",
    "for collum in collumsToChange:\n",
    "    df[collum] = df[collum].map({2: 1, 1: 0})\n",
    "df = df.astype('int64')"
   ]
  },
  {
   "cell_type": "code",
   "execution_count": 4,
   "id": "64cfd48c",
   "metadata": {},
   "outputs": [],
   "source": [
    "lungCancerTrueValues = df[\"LUNG_CANCER\"].to_numpy()\n",
    "\n",
    "df = df.drop('LUNG_CANCER', axis=1)"
   ]
  },
  {
   "cell_type": "code",
   "execution_count": 5,
   "id": "f7b03f65",
   "metadata": {},
   "outputs": [],
   "source": [
    "df_arr = df.to_records(index=False)\n",
    "arr = []\n",
    "for i in df_arr:\n",
    "    for j in i:\n",
    "        arr.append(j)\n",
    " \n",
    "\n",
    "dataArray = np.array(arr) "
   ]
  },
  {
   "cell_type": "code",
   "execution_count": 6,
   "id": "cb1e4548",
   "metadata": {},
   "outputs": [
    {
     "name": "stdout",
     "output_type": "stream",
     "text": [
      "[ 1 69  0 ...  1 67  0]\n"
     ]
    }
   ],
   "source": [
    "#Getting training dataset:\n",
    "trainingArray = []\n",
    "testArray = []\n",
    "trainingArraySize = int(len(dataArray)*0.8)\n",
    "\n",
    "trainingArray = dataArray[0:trainingArraySize]\n",
    "testArray = dataArray[trainingArraySize:]\n",
    "\n",
    "print(trainingArray)"
   ]
  },
  {
   "cell_type": "markdown",
   "id": "9c76be20",
   "metadata": {},
   "source": [
    "## Porque considerei que os homens é 1 e mulheres é 0?\n",
    "\n",
    "Porque os homens têm um metabolismo mais alto, mair chance de trabalhar em ambientes poluidos(cavernas), entre outros.\n",
    "\n",
    "Assim, na parte do género tenta-se compensar estas variaveis não quantificaveis"
   ]
  },
  {
   "cell_type": "code",
   "execution_count": 7,
   "id": "f5c0abf5",
   "metadata": {},
   "outputs": [],
   "source": [
    "trainData=torch.tensor(trainingArray,dtype=torch.float32)\n",
    "testData=torch.tensor(testArray,dtype=torch.float32)\n",
    "target = torch.tensor(lungCancerTrueValues,dtype=torch.float32)"
   ]
  },
  {
   "cell_type": "code",
   "execution_count": 8,
   "id": "149b9aa5",
   "metadata": {},
   "outputs": [],
   "source": [
    "batch_size_num = 64\n",
    "\n",
    "train_dataloader = DataLoader(trainData, batch_size=batch_size_num, shuffle=True)\n",
    "test_dataloader = DataLoader(testData, batch_size=batch_size_num, shuffle=True)"
   ]
  },
  {
   "cell_type": "code",
   "execution_count": 9,
   "id": "35f9365c",
   "metadata": {},
   "outputs": [
    {
     "name": "stdout",
     "output_type": "stream",
     "text": [
      "NeuralNetwork(\n",
      "  (flatten): Flatten(start_dim=1, end_dim=-1)\n",
      "  (linear_relu_stack): Sequential(\n",
      "    (0): Linear(in_features=15, out_features=10, bias=True)\n",
      "    (1): ReLU()\n",
      "    (2): Linear(in_features=10, out_features=5, bias=True)\n",
      "    (3): ReLU()\n",
      "    (4): Linear(in_features=5, out_features=1, bias=True)\n",
      "  )\n",
      ")\n"
     ]
    }
   ],
   "source": [
    "device = \"cuda\" if torch.cuda.is_available() else \"cpu\"\n",
    "\n",
    "\n",
    "class NeuralNetwork(nn.Module):\n",
    "    def __init__(self):\n",
    "        super().__init__()\n",
    "        self.flatten = nn.Flatten()\n",
    "        self.linear_relu_stack = nn.Sequential(\n",
    "            nn.Linear(15, 10),\n",
    "            nn.ReLU(),\n",
    "            nn.Linear(10, 5),\n",
    "            nn.ReLU(),\n",
    "            nn.Linear(5, 1)\n",
    "        )\n",
    "\n",
    "    def forward(self, x):\n",
    "        x = self.flatten(x)\n",
    "        logits = self.linear_relu_stack(x)\n",
    "        return logits\n",
    "\n",
    "\n",
    "model = NeuralNetwork().to(device)\n",
    "print(model)\n",
    "\n"
   ]
  },
  {
   "cell_type": "code",
   "execution_count": 10,
   "id": "e547369d",
   "metadata": {},
   "outputs": [],
   "source": [
    "loss_fn = nn.CrossEntropyLoss()\n",
    "optimizer = torch.optim.SGD(model.parameters(), lr=1e-3)"
   ]
  },
  {
   "cell_type": "code",
   "execution_count": null,
   "id": "a6586cf0",
   "metadata": {},
   "outputs": [],
   "source": [
    "def train(dataloader, model, loss_fn, optimizer):\n",
    "    size = len(dataloader.dataset)\n",
    "    model.train()\n",
    "    \n",
    "    for batch, (X, y) in enumerate(dataloader):#usar target\n",
    "        X, y = X.to(device), y.to(device)\n",
    "\n",
    "        # Compute prediction error\n",
    "        pred = model(X)\n",
    "        loss = loss_fn(pred, y)\n",
    "\n",
    "        # Backpropagation\n",
    "        optimizer.zero_grad()\n",
    "        loss.backward()\n",
    "        optimizer.step()\n",
    "\n",
    "        if batch % 100 == 0:\n",
    "            loss, current = loss.item(), batch * len(X)\n",
    "            print(f\"loss: {loss:>7f}  [{current:>5d}/{size:>5d}]\")"
   ]
  },
  {
   "cell_type": "code",
   "execution_count": null,
   "id": "f67791ac",
   "metadata": {},
   "outputs": [],
   "source": [
    "def test(dataloader, model, loss_fn):\n",
    "    size = len(dataloader.dataset)\n",
    "    num_batches = len(dataloader)\n",
    "    model.eval()\n",
    "    test_loss, correct = 0, 0\n",
    "    with torch.no_grad():\n",
    "        for X, y in dataloader:\n",
    "            X, y = X.to(device), y.to(device)\n",
    "            pred = model(X)\n",
    "            test_loss += loss_fn(pred, y).item()\n",
    "            correct += (pred.argmax(1) == y).type(torch.float).sum().item()\n",
    "    test_loss /= num_batches\n",
    "    correct /= size\n",
    "    print(f\"Test Error: \\n Accuracy: {(100*correct):>0.1f}%, Avg loss: {test_loss:>8f} \\n\")"
   ]
  },
  {
   "cell_type": "code",
   "execution_count": null,
   "id": "7fda2397",
   "metadata": {},
   "outputs": [],
   "source": [
    "epochs = 20\n",
    "for t in range(epochs):\n",
    "    print(f\"Epoch {t+1}\\n-------------------------------\")\n",
    "    train(train_dataloader, model, loss_fn, optimizer)\n",
    "    test(test_dataloader, model, loss_fn)\n",
    "print(\"Done!\")"
   ]
  }
 ],
 "metadata": {
  "kernelspec": {
   "display_name": "Python 3 (ipykernel)",
   "language": "python",
   "name": "python3"
  },
  "language_info": {
   "codemirror_mode": {
    "name": "ipython",
    "version": 3
   },
   "file_extension": ".py",
   "mimetype": "text/x-python",
   "name": "python",
   "nbconvert_exporter": "python",
   "pygments_lexer": "ipython3",
   "version": "3.10.4"
  }
 },
 "nbformat": 4,
 "nbformat_minor": 5
}
