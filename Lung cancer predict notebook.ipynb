{
 "cells": [
  {
   "cell_type": "code",
   "execution_count": null,
   "id": "516bc4c3",
   "metadata": {},
   "outputs": [],
   "source": [
    "import torch #create tensors to raw data and weights\n",
    "import torch.nn as nn # make tensores part of nn\n",
    "import torch.nn.functional as F #gives activation function  \n",
    "from torch.optim import SGD #stochastic gradient descend\n",
    "import pandas as pd"
   ]
  },
  {
   "cell_type": "code",
   "execution_count": null,
   "id": "f06f8e3c",
   "metadata": {},
   "outputs": [],
   "source": [
    "df = pd.read_csv(r'data.csv')\n",
    "pd.options.display.max_columns = None"
   ]
  },
  {
   "cell_type": "markdown",
   "id": "4fd9eb46",
   "metadata": {},
   "source": [
    "tornar todos os nomes com letras pequenas e não existir espaos nos nomes\n",
    "\n",
    "ver codigo exemplo em: https://github.com/IEEE-NOVA-SB/Easy_PyTorch_Models"
   ]
  },
  {
   "cell_type": "code",
   "execution_count": null,
   "id": "32c84d42",
   "metadata": {},
   "outputs": [],
   "source": [
    "print(df.head(10))"
   ]
  },
  {
   "cell_type": "code",
   "execution_count": null,
   "id": "4588b262",
   "metadata": {},
   "outputs": [],
   "source": [
    "df['LUNG_CANCER'] = df['LUNG_CANCER'].map({'YES': 1, 'NO': 0})\n",
    "\n",
    "collumsToChange = ['SMOKING', 'YELLOW_FINGERS','ANXIETY','PEER_PRESSURE','CHRONIC DISEASE','FATIGUE','ALLERGY','WHEEZING','ALCOHOL CONSUMING','COUGHING','SHORTNESS OF BREATH','SWALLOWING DIFFICULTY','CHEST PAIN']\n",
    "for i in collumsToChange:\n",
    "    df[i] = df[i].apply(lambda x: x - 1)"
   ]
  }
 ],
 "metadata": {
  "kernelspec": {
   "display_name": "Python 3 (ipykernel)",
   "language": "python",
   "name": "python3"
  },
  "language_info": {
   "codemirror_mode": {
    "name": "ipython",
    "version": 3
   },
   "file_extension": ".py",
   "mimetype": "text/x-python",
   "name": "python",
   "nbconvert_exporter": "python",
   "pygments_lexer": "ipython3",
   "version": "3.10.4"
  }
 },
 "nbformat": 4,
 "nbformat_minor": 5
}
