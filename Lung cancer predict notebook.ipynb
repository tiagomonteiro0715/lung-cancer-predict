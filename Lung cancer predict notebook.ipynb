{
 "cells": [
  {
   "cell_type": "markdown",
   "id": "d97773ef",
   "metadata": {},
   "source": [
    "## Para fazer:\n",
    "\n",
    "converter pandas dataframes to tensors\n",
    "https://stackoverflow.com/questions/65767833/pandas-dataframe-to-tensor\n",
    "\n",
    "perceber cada linha de codigo ao mais infimo detalhe\n",
    "\n",
    "perceber mesmo o que é um tensor bem\n",
    "\n",
    "tiar collum do cancro do pulmão. fai servir para delta e weight delta ou para aume tat o erro na função de sum of scare residuals"
   ]
  },
  {
   "cell_type": "markdown",
   "id": "4fd9eb46",
   "metadata": {},
   "source": [
    "tornar todos os nomes com letras pequenas e não existir espaos nos nomes\n",
    "\n",
    "ver codigo exemplo em: https://github.com/IEEE-NOVA-SB/Easy_PyTorch_Models"
   ]
  },
  {
   "cell_type": "code",
   "execution_count": 1,
   "id": "516bc4c3",
   "metadata": {},
   "outputs": [],
   "source": [
    "import torch #create tensors to raw data and weights\n",
    "from torch import nn\n",
    "from torch.utils.data import DataLoader\n",
    "import torch.nn.functional as F #gives activation function  \n",
    "from torch.optim import SGD #stochastic gradient descend\n",
    "import pandas as pd\n",
    "import numpy as np"
   ]
  },
  {
   "cell_type": "code",
   "execution_count": 2,
   "id": "f06f8e3c",
   "metadata": {},
   "outputs": [],
   "source": [
    "df = pd.read_csv(r'data.csv')\n",
    "pd.options.display.max_columns = None"
   ]
  },
  {
   "cell_type": "code",
   "execution_count": 3,
   "id": "4588b262",
   "metadata": {},
   "outputs": [
    {
     "name": "stdout",
     "output_type": "stream",
     "text": [
      "   GENDER  AGE  SMOKING  YELLOW_FINGERS  ANXIETY  PEER_PRESSURE  \\\n",
      "0       1   69        0               1        1              0   \n",
      "1       1   74        1               0        0              0   \n",
      "2       0   59        0               0        0              1   \n",
      "3       1   63        1               1        1              0   \n",
      "4       0   63        0               1        0              0   \n",
      "\n",
      "   CHRONIC DISEASE  FATIGUE  ALLERGY  WHEEZING  ALCOHOL CONSUMING  COUGHING  \\\n",
      "0                0        1        0         1                  1         1   \n",
      "1                1        1        1         0                  0         0   \n",
      "2                0        1        0         1                  0         1   \n",
      "3                0        0        0         0                  1         0   \n",
      "4                0        0        0         1                  0         1   \n",
      "\n",
      "   SHORTNESS OF BREATH  SWALLOWING DIFFICULTY  CHEST PAIN  LUNG_CANCER  \n",
      "0                    1                      1           1            1  \n",
      "1                    1                      1           1            1  \n",
      "2                    1                      0           1            0  \n",
      "3                    0                      1           1            0  \n",
      "4                    1                      0           0            0  \n"
     ]
    }
   ],
   "source": [
    "df['LUNG_CANCER'] = df['LUNG_CANCER'].map({'YES': 1, 'NO': 0})\n",
    "df['GENDER'] = df['GENDER'].map({'M': 1, 'F': 0})\n",
    "collumsToChange = [\"SMOKING\", \"YELLOW_FINGERS\",\"ANXIETY\",\"PEER_PRESSURE\",\"CHRONIC DISEASE\",\"FATIGUE\",\"ALLERGY\",\"WHEEZING\",\"ALCOHOL CONSUMING\",\"COUGHING\",\"SHORTNESS OF BREATH\",\"SWALLOWING DIFFICULTY\",\"CHEST PAIN\"] \n",
    "for collum in collumsToChange:\n",
    "    df[collum] = df[collum].map({2: 1, 1: 0})\n",
    "\n",
    "print(df.head(5))"
   ]
  },
  {
   "cell_type": "markdown",
   "id": "9c76be20",
   "metadata": {},
   "source": [
    "## Porque considerei que os homens é 1 e mulheres é 0?\n",
    "\n",
    "Porque os homens têm um metabolismo mais alto, mair chance de trabalhar em ambientes poluidos(cavernas), entre outros.\n",
    "\n",
    "Assim, na parte do género tenta-se compensar estas variaveis não quantificaveis"
   ]
  },
  {
   "cell_type": "code",
   "execution_count": null,
   "id": "f5c0abf5",
   "metadata": {},
   "outputs": [],
   "source": [
    "train = df.sample(frac=0.8,random_state=0)\n",
    "test = df.drop(train.index)\n",
    "\n",
    "train=torch.tensor(x,dtype=torch.float32)\n",
    "test=torch.tensor(y,dtype=torch.float32)"
   ]
  },
  {
   "cell_type": "code",
   "execution_count": null,
   "id": "149b9aa5",
   "metadata": {},
   "outputs": [],
   "source": [
    "batch_size_num = 64\n",
    "\n",
    "train_dataloader = DataLoader(train, batch_size=batch_size_num, shuffle=True)\n",
    "test_dataloader = DataLoader(test, batch_size=batch_size_num, shuffle=True)"
   ]
  },
  {
   "cell_type": "code",
   "execution_count": null,
   "id": "108f5892",
   "metadata": {},
   "outputs": [],
   "source": [
    "print(train_dataloader)"
   ]
  },
  {
   "cell_type": "code",
   "execution_count": null,
   "id": "35f9365c",
   "metadata": {},
   "outputs": [],
   "source": [
    "device = \"cuda\" if torch.cuda.is_available() else \"cpu\"\n",
    "\n",
    "\n",
    "class NeuralNetwork(nn.Module):\n",
    "    def __init__(self):\n",
    "        super().__init__()\n",
    "        self.linear_relu_stack = nn.Sequential(\n",
    "            nn.Linear(16, 10),\n",
    "            nn.ReLU(),\n",
    "            nn.Linear(10, 5),\n",
    "            nn.ReLU(),\n",
    "            nn.Linear(5, 1)\n",
    "        )\n",
    "\n",
    "    def forward(self, x):\n",
    "        logits = self.linear_relu_stack(x)\n",
    "        return logits\n",
    "\n",
    "\n",
    "model = NeuralNetwork().to(device)\n",
    "print(model)\n",
    "\n"
   ]
  },
  {
   "cell_type": "code",
   "execution_count": null,
   "id": "a6586cf0",
   "metadata": {},
   "outputs": [],
   "source": [
    "def train(dataloader, model, loss_fn, optimizer):\n",
    "    size = len(dataloader.dataset)\n",
    "    model.train()\n",
    "    for batch, (X, y) in enumerate(dataloader):\n",
    "        X, y = X.to(device), y.to(device)\n",
    "\n",
    "        # Compute prediction error\n",
    "        pred = model(X)\n",
    "        loss = loss_fn(pred, y)\n",
    "\n",
    "        # Backpropagation\n",
    "        optimizer.zero_grad()\n",
    "        loss.backward()\n",
    "        optimizer.step()\n",
    "\n",
    "        if batch % 100 == 0:\n",
    "            loss, current = loss.item(), batch * len(X)\n",
    "            print(f\"loss: {loss:>7f}  [{current:>5d}/{size:>5d}]\")"
   ]
  }
 ],
 "metadata": {
  "kernelspec": {
   "display_name": "Python 3 (ipykernel)",
   "language": "python",
   "name": "python3"
  },
  "language_info": {
   "codemirror_mode": {
    "name": "ipython",
    "version": 3
   },
   "file_extension": ".py",
   "mimetype": "text/x-python",
   "name": "python",
   "nbconvert_exporter": "python",
   "pygments_lexer": "ipython3",
   "version": "3.10.4"
  }
 },
 "nbformat": 4,
 "nbformat_minor": 5
}
